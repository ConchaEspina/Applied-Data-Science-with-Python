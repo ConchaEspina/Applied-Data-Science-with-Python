{
 "cells": [
  {
   "cell_type": "markdown",
   "id": "01936a4e",
   "metadata": {},
   "source": [
    "# Chapter 2"
   ]
  },
  {
   "cell_type": "markdown",
   "id": "a36a2528",
   "metadata": {},
   "source": [
    "## 2.2   IPython Basics"
   ]
  },
  {
   "cell_type": "markdown",
   "id": "a6fd002c",
   "metadata": {},
   "source": [
    "### Running the IPython Shell"
   ]
  },
  {
   "cell_type": "code",
   "execution_count": 1,
   "id": "3e703344",
   "metadata": {},
   "outputs": [],
   "source": [
    "import numpy as np"
   ]
  },
  {
   "cell_type": "code",
   "execution_count": 2,
   "id": "df3745e7",
   "metadata": {},
   "outputs": [
    {
     "data": {
      "text/plain": [
       "{0: 0.47143516373249306,\n",
       " 1: -1.1909756947064645,\n",
       " 2: 1.4327069684260973,\n",
       " 3: -0.3126518960917129,\n",
       " 4: -0.7205887333650116,\n",
       " 5: 0.8871629403077386,\n",
       " 6: 0.8595884137174165}"
      ]
     },
     "execution_count": 2,
     "metadata": {},
     "output_type": "execute_result"
    }
   ],
   "source": [
    "np.random.seed(1234)\n",
    "data = {i: np.random.randn() for i in range(7)}\n",
    "data"
   ]
  },
  {
   "cell_type": "markdown",
   "id": "0b8c7537",
   "metadata": {},
   "source": [
    "### Tab Completion"
   ]
  },
  {
   "cell_type": "markdown",
   "id": "6c78f9e3",
   "metadata": {},
   "source": [
    "Search variables"
   ]
  },
  {
   "cell_type": "code",
   "execution_count": 3,
   "id": "b2d4acc5",
   "metadata": {},
   "outputs": [],
   "source": [
    "an_apple = 27\n",
    "an_example = 42"
   ]
  },
  {
   "cell_type": "code",
   "execution_count": 4,
   "id": "6786e016",
   "metadata": {},
   "outputs": [
    {
     "data": {
      "text/plain": [
       "27"
      ]
     },
     "execution_count": 4,
     "metadata": {},
     "output_type": "execute_result"
    }
   ],
   "source": [
    "# an<tab>\n",
    "an_apple"
   ]
  },
  {
   "cell_type": "markdown",
   "id": "f826e7db",
   "metadata": {},
   "source": [
    "Search methods and attributes"
   ]
  },
  {
   "cell_type": "code",
   "execution_count": 6,
   "id": "b9436087",
   "metadata": {},
   "outputs": [
    {
     "data": {
      "text/plain": [
       "[1, 2, 3, 4]"
      ]
     },
     "execution_count": 6,
     "metadata": {},
     "output_type": "execute_result"
    }
   ],
   "source": [
    "# b.<tab>\n",
    "b.append(4)\n",
    "b"
   ]
  },
  {
   "cell_type": "code",
   "execution_count": 5,
   "id": "6f20d9e6",
   "metadata": {},
   "outputs": [],
   "source": [
    "b = [1,2,3]"
   ]
  },
  {
   "cell_type": "markdown",
   "id": "8a690b14",
   "metadata": {},
   "source": [
    "Search methods in a module"
   ]
  },
  {
   "cell_type": "code",
   "execution_count": 7,
   "id": "8b1cc5f3",
   "metadata": {},
   "outputs": [],
   "source": [
    "import datetime"
   ]
  },
  {
   "cell_type": "code",
   "execution_count": 10,
   "id": "fbf39ddd",
   "metadata": {},
   "outputs": [
    {
     "data": {
      "text/plain": [
       "datetime.date(2022, 6, 23)"
      ]
     },
     "execution_count": 10,
     "metadata": {},
     "output_type": "execute_result"
    }
   ],
   "source": [
    "# datetime.<tab>\n",
    "datetime.date(year = 2022, month = 6, day = 23)"
   ]
  },
  {
   "cell_type": "markdown",
   "id": "600344ca",
   "metadata": {},
   "source": [
    "Note that IPython by default hides methods and attributes starting with underscores, such as magic methods and internal “private” methods and attributes, in order to avoid cluttering the display (and confusing novice users!). These, too, can be tab-completed, but you must first type an underscore to see them."
   ]
  },
  {
   "cell_type": "code",
   "execution_count": 12,
   "id": "1c094f64",
   "metadata": {},
   "outputs": [],
   "source": [
    "# np.random._<tab>\n",
    "# np.random._generator()"
   ]
  },
  {
   "cell_type": "markdown",
   "id": "82cabbf1",
   "metadata": {},
   "source": [
    "Search files"
   ]
  },
  {
   "cell_type": "code",
   "execution_count": 13,
   "id": "8c4369d8",
   "metadata": {},
   "outputs": [],
   "source": [
    "# \"/Users/duoduo/Desktop/<tab>\"\n",
    "path = \"/Users/duoduo/Desktop/Madrid_metro.pdf\""
   ]
  },
  {
   "cell_type": "markdown",
   "id": "2de7e9f4",
   "metadata": {},
   "source": [
    "Search function key-word arguments"
   ]
  },
  {
   "cell_type": "code",
   "execution_count": 14,
   "id": "7b1e09bc",
   "metadata": {},
   "outputs": [],
   "source": [
    "def func_with_keywords(abra = 1, abbra = 2):\n",
    "    return abra, abbra"
   ]
  },
  {
   "cell_type": "code",
   "execution_count": 15,
   "id": "673ffab5",
   "metadata": {},
   "outputs": [
    {
     "data": {
      "text/plain": [
       "(1, 3)"
      ]
     },
     "execution_count": 15,
     "metadata": {},
     "output_type": "execute_result"
    }
   ],
   "source": [
    "# func_with_keywords(<tab>)\n",
    "func_with_keywords(abbra = 3)"
   ]
  },
  {
   "cell_type": "markdown",
   "id": "33cf43f2",
   "metadata": {},
   "source": [
    "### Introspection"
   ]
  },
  {
   "cell_type": "code",
   "execution_count": 16,
   "id": "a53fe4da",
   "metadata": {},
   "outputs": [],
   "source": [
    "b?"
   ]
  },
  {
   "cell_type": "code",
   "execution_count": 17,
   "id": "59d862b1",
   "metadata": {},
   "outputs": [],
   "source": [
    "print?"
   ]
  },
  {
   "cell_type": "markdown",
   "id": "b3a9fc45",
   "metadata": {},
   "source": [
    "This is referred to as *object introspection*. If the object is a function or instance method, the docstring, if defined, will also be shown."
   ]
  },
  {
   "cell_type": "code",
   "execution_count": 18,
   "id": "8c7c02b7",
   "metadata": {},
   "outputs": [],
   "source": [
    "def add_numbers(a, b):\n",
    "    return a+b"
   ]
  },
  {
   "cell_type": "markdown",
   "id": "b574075c",
   "metadata": {},
   "source": [
    "Use `?` to show the docstring"
   ]
  },
  {
   "cell_type": "code",
   "execution_count": 19,
   "id": "8cc58f88",
   "metadata": {},
   "outputs": [],
   "source": [
    "add_numbers?"
   ]
  },
  {
   "cell_type": "markdown",
   "id": "0b618ee0",
   "metadata": {},
   "source": [
    "Use `??` to show function's source code"
   ]
  },
  {
   "cell_type": "code",
   "execution_count": 20,
   "id": "7c7006f4",
   "metadata": {},
   "outputs": [],
   "source": [
    "add_numbers??"
   ]
  },
  {
   "cell_type": "markdown",
   "id": "e024f148",
   "metadata": {},
   "source": [
    "`?` has a final usage, which is for searching the IPython namespace in a manner similar to the standard Unix or Windows command line.     \n",
    "A number of characters combined with the wildcard (\\*) will show all names matching the wildcard expression."
   ]
  },
  {
   "cell_type": "code",
   "execution_count": 21,
   "id": "8c6b9834",
   "metadata": {},
   "outputs": [],
   "source": [
    "np.*load*?   # get a list of all functions in the top-level NumPy namespace containing \"load\""
   ]
  },
  {
   "cell_type": "markdown",
   "id": "3f8f6207",
   "metadata": {},
   "source": [
    "### The %run Command"
   ]
  },
  {
   "cell_type": "markdown",
   "id": "fc8ac127",
   "metadata": {},
   "source": [
    "You can run any file as a Python program inside the environment of your IPython session using the `%run` command."
   ]
  },
  {
   "cell_type": "code",
   "execution_count": 22,
   "id": "f26fa7f9",
   "metadata": {},
   "outputs": [],
   "source": [
    "%run ipython_script_test.py"
   ]
  },
  {
   "cell_type": "code",
   "execution_count": 23,
   "id": "ce2e27d6",
   "metadata": {},
   "outputs": [
    {
     "data": {
      "text/plain": [
       "7.5"
      ]
     },
     "execution_count": 23,
     "metadata": {},
     "output_type": "execute_result"
    }
   ],
   "source": [
    "c"
   ]
  },
  {
   "cell_type": "code",
   "execution_count": 24,
   "id": "1ce9d018",
   "metadata": {},
   "outputs": [
    {
     "data": {
      "text/plain": [
       "1.4666666666666666"
      ]
     },
     "execution_count": 24,
     "metadata": {},
     "output_type": "execute_result"
    }
   ],
   "source": [
    "result"
   ]
  },
  {
   "cell_type": "code",
   "execution_count": null,
   "id": "a5545e35",
   "metadata": {},
   "outputs": [],
   "source": [
    "# %load ipython_script_test.py\n",
    "def f(x, y, z):\n",
    "    return (x+y) / z\n",
    "\n",
    "a = 5\n",
    "b = 6\n",
    "c = 7.5\n",
    "\n",
    "result = f(a, b, c)\n"
   ]
  },
  {
   "cell_type": "markdown",
   "id": "6ab35469",
   "metadata": {},
   "source": [
    "### About Magic Commands"
   ]
  },
  {
   "cell_type": "code",
   "execution_count": 28,
   "id": "292a3edf",
   "metadata": {},
   "outputs": [
    {
     "name": "stdout",
     "output_type": "stream",
     "text": [
      "33.7 µs ± 4.12 µs per loop (mean ± std. dev. of 7 runs, 10000 loops each)\n"
     ]
    }
   ],
   "source": [
    "a = np.random.randn(100, 100)\n",
    "%timeit np.dot(a, a)"
   ]
  },
  {
   "cell_type": "code",
   "execution_count": 29,
   "id": "c7047759",
   "metadata": {},
   "outputs": [],
   "source": [
    "%debug?"
   ]
  },
  {
   "cell_type": "markdown",
   "id": "dce2cc55",
   "metadata": {},
   "source": [
    "Magic functions can be used by default without the percent sign, as long as no variable is defined with the same name as the magic function in question."
   ]
  },
  {
   "cell_type": "code",
   "execution_count": 30,
   "id": "9805d121",
   "metadata": {},
   "outputs": [
    {
     "data": {
      "text/plain": [
       "'/Users/duoduo/Desktop/UM Online/Applied Data Science with Python/Python for Data Analysis'"
      ]
     },
     "execution_count": 30,
     "metadata": {},
     "output_type": "execute_result"
    }
   ],
   "source": [
    "%pwd"
   ]
  },
  {
   "cell_type": "code",
   "execution_count": 31,
   "id": "96661a76",
   "metadata": {},
   "outputs": [
    {
     "data": {
      "text/plain": [
       "'/Users/duoduo/Desktop/UM Online/Applied Data Science with Python/Python for Data Analysis'"
      ]
     },
     "execution_count": 31,
     "metadata": {},
     "output_type": "execute_result"
    }
   ],
   "source": [
    "foo = %pwd\n",
    "foo"
   ]
  },
  {
   "cell_type": "code",
   "execution_count": 32,
   "id": "f7531e12",
   "metadata": {},
   "outputs": [],
   "source": [
    "%quickref"
   ]
  },
  {
   "cell_type": "code",
   "execution_count": 33,
   "id": "83df2cd7",
   "metadata": {},
   "outputs": [
    {
     "name": "stdout",
     "output_type": "stream",
     "text": [
      "Using matplotlib backend: MacOSX\n"
     ]
    }
   ],
   "source": [
    "%matplotlib"
   ]
  },
  {
   "cell_type": "code",
   "execution_count": 37,
   "id": "6f3fdcd7",
   "metadata": {},
   "outputs": [
    {
     "data": {
      "text/plain": [
       "[<matplotlib.lines.Line2D at 0x7fd07480e6a0>]"
      ]
     },
     "execution_count": 37,
     "metadata": {},
     "output_type": "execute_result"
    },
    {
     "data": {
      "image/png": "[encoded data removed]",
      "text/plain": [
       "<Figure size 640x480 with 1 Axes>"
      ]
     },
     "metadata": {},
     "output_type": "display_data"
    }
   ],
   "source": [
    "%matplotlib inline\n",
    "import matplotlib.pyplot as plt\n",
    "plt.style.use(\"default\")\n",
    "plt.plot(np.random.randn(50).cumsum())"
   ]
  },
  {
   "cell_type": "markdown",
   "id": "728e197c",
   "metadata": {},
   "source": [
    "## 2.3   Python Language Basics"
   ]
  },
  {
   "cell_type": "markdown",
   "id": "22045048",
   "metadata": {},
   "source": [
    "### Language Semantics"
   ]
  },
  {
   "cell_type": "markdown",
   "id": "6d78bd7d",
   "metadata": {},
   "source": [
    "#### Variables and argument passing"
   ]
  },
  {
   "cell_type": "code",
   "execution_count": 38,
   "id": "f21ba913",
   "metadata": {},
   "outputs": [
    {
     "name": "stdout",
     "output_type": "stream",
     "text": [
      "[1, 2, 3]\n",
      "[1, 2, 3]\n"
     ]
    }
   ],
   "source": [
    "a = [1, 2, 3]\n",
    "b = a\n",
    "print(a)\n",
    "print(b)"
   ]
  },
  {
   "cell_type": "code",
   "execution_count": 39,
   "id": "71c014bb",
   "metadata": {},
   "outputs": [
    {
     "data": {
      "text/plain": [
       "[1, 2, 3, 4]"
      ]
     },
     "execution_count": 39,
     "metadata": {},
     "output_type": "execute_result"
    }
   ],
   "source": [
    "a.append(4)\n",
    "b"
   ]
  },
  {
   "cell_type": "markdown",
   "id": "4e8ecd23",
   "metadata": {},
   "source": [
    "#### Dynamic references, strong types"
   ]
  },
  {
   "cell_type": "code",
   "execution_count": 42,
   "id": "55857e78",
   "metadata": {},
   "outputs": [
    {
     "data": {
      "text/plain": [
       "True"
      ]
     },
     "execution_count": 42,
     "metadata": {},
     "output_type": "execute_result"
    }
   ],
   "source": [
    "a = 5\n",
    "isinstance(a, int)"
   ]
  },
  {
   "cell_type": "code",
   "execution_count": 43,
   "id": "d8c9a386",
   "metadata": {},
   "outputs": [
    {
     "name": "stdout",
     "output_type": "stream",
     "text": [
      "True\n",
      "True\n"
     ]
    }
   ],
   "source": [
    "b = 4.5\n",
    "print(isinstance(a, (int, float)))\n",
    "print(isinstance(b, (int, float)))"
   ]
  },
  {
   "cell_type": "markdown",
   "id": "b79a666e",
   "metadata": {},
   "source": [
    "#### Attributes and methods"
   ]
  },
  {
   "cell_type": "code",
   "execution_count": 44,
   "id": "ef66ee91",
   "metadata": {},
   "outputs": [
    {
     "data": {
      "text/plain": [
       "<function str.upper()>"
      ]
     },
     "execution_count": 44,
     "metadata": {},
     "output_type": "execute_result"
    }
   ],
   "source": [
    "a = \"foo\"\n",
    "getattr(a, \"upper\")"
   ]
  },
  {
   "cell_type": "markdown",
   "id": "8924d1f8",
   "metadata": {},
   "source": [
    "While we will not extensively use the functions `getattr` and related functions `hasattr` and `setattr` in this book, they can be used very effectively to write generic, reusable code."
   ]
  },
  {
   "cell_type": "markdown",
   "id": "be98d36f",
   "metadata": {},
   "source": [
    "#### Duck typing"
   ]
  },
  {
   "cell_type": "markdown",
   "id": "42487958",
   "metadata": {},
   "source": [
    "Often you may not care about the type of an object but rather only whether it has certain methods or behavior. This is sometimes called “duck typing,” after the saying “If it walks like a duck and quacks like a duck, then it’s a duck.” For example, you can verify that an object is iterable if it implemented the *iterator protocol*. For many objects, this means it has a `__iter__` “magic method,” though an alternative and better way to check is to try using the iter function:"
   ]
  },
  {
   "cell_type": "code",
   "execution_count": 45,
   "id": "67d6c4c3",
   "metadata": {},
   "outputs": [],
   "source": [
    "def isiterable(obj):\n",
    "    try:\n",
    "        iter(obj)\n",
    "        return True\n",
    "    except TypeError:   # not iterale\n",
    "        return False"
   ]
  },
  {
   "cell_type": "code",
   "execution_count": 46,
   "id": "8023e447",
   "metadata": {},
   "outputs": [
    {
     "data": {
      "text/plain": [
       "True"
      ]
     },
     "execution_count": 46,
     "metadata": {},
     "output_type": "execute_result"
    }
   ],
   "source": [
    "isiterable('a string')"
   ]
  },
  {
   "cell_type": "code",
   "execution_count": 47,
   "id": "1cc4c69f",
   "metadata": {},
   "outputs": [
    {
     "data": {
      "text/plain": [
       "True"
      ]
     },
     "execution_count": 47,
     "metadata": {},
     "output_type": "execute_result"
    }
   ],
   "source": [
    "isiterable((3, 5))"
   ]
  },
  {
   "cell_type": "code",
   "execution_count": 48,
   "id": "779211d9",
   "metadata": {},
   "outputs": [
    {
     "data": {
      "text/plain": [
       "False"
      ]
     },
     "execution_count": 48,
     "metadata": {},
     "output_type": "execute_result"
    }
   ],
   "source": [
    "isiterable(9)"
   ]
  },
  {
   "cell_type": "markdown",
   "id": "e5d57e05",
   "metadata": {},
   "source": [
    "A place where I use this functionality all the time is to write functions that can accept multiple kinds of input. A common case is writing a function that can accept any kind of sequence (list, tuple, ndarray) or even an iterator. You can first check if the object is a list (or a NumPy array) and, if it is not, convert it to be one:\n",
    "```python\n",
    "if not isinstance(x, list) and isiterable(x):\n",
    "    x = list(x)\n",
    "```"
   ]
  },
  {
   "cell_type": "markdown",
   "id": "c7c52d33",
   "metadata": {},
   "source": [
    "#### Binary operators and comparisons"
   ]
  },
  {
   "cell_type": "markdown",
   "id": "1ed08ad7",
   "metadata": {},
   "source": [
    "To check if two references refer to the same object, use the `is` keyword. `is not` is also perfectly valid if you want to check that two objects are not the same:"
   ]
  },
  {
   "cell_type": "code",
   "execution_count": 49,
   "id": "0e2cce79",
   "metadata": {},
   "outputs": [],
   "source": [
    "a = [1, 2, 3]\n",
    "b = a\n",
    "c = list(a)"
   ]
  },
  {
   "cell_type": "code",
   "execution_count": 50,
   "id": "2c079adf",
   "metadata": {},
   "outputs": [
    {
     "name": "stdout",
     "output_type": "stream",
     "text": [
      "True\n",
      "True\n"
     ]
    }
   ],
   "source": [
    "print(a is b)\n",
    "print(a is not c)"
   ]
  },
  {
   "cell_type": "code",
   "execution_count": 51,
   "id": "04e94ed0",
   "metadata": {},
   "outputs": [
    {
     "name": "stdout",
     "output_type": "stream",
     "text": [
      "True\n",
      "True\n"
     ]
    }
   ],
   "source": [
    "print(a == b)\n",
    "print(a == c)"
   ]
  },
  {
   "cell_type": "markdown",
   "id": "5c4e5402",
   "metadata": {},
   "source": [
    "Since `list` always creates a new Python list (i.e., a copy), we can be sure that `c` is distinct from `a`. Comparing with `is` is not the same as the `==` operator."
   ]
  },
  {
   "cell_type": "markdown",
   "id": "504d968a",
   "metadata": {},
   "source": [
    "A very common use of `is` and `is not` is to check if a variable is `None`, since there is only one instance of `None`."
   ]
  },
  {
   "cell_type": "markdown",
   "id": "a4b24e9f",
   "metadata": {},
   "source": [
    "### Scalar Types"
   ]
  },
  {
   "cell_type": "markdown",
   "id": "ac697df1",
   "metadata": {},
   "source": [
    "#### Strings"
   ]
  },
  {
   "cell_type": "code",
   "execution_count": 52,
   "id": "80f64ed8",
   "metadata": {},
   "outputs": [
    {
     "name": "stdout",
     "output_type": "stream",
     "text": [
      "12\\34\n",
      "12\\\\34\n"
     ]
    }
   ],
   "source": [
    "s = \"12\\\\34\"\n",
    "ss = r\"12\\\\34\"\n",
    "print(s)\n",
    "print(ss)"
   ]
  },
  {
   "cell_type": "code",
   "execution_count": 53,
   "id": "483a289f",
   "metadata": {},
   "outputs": [
    {
     "data": {
      "text/plain": [
       "'4.56 Argentine Pesos are worth US$1'"
      ]
     },
     "execution_count": 53,
     "metadata": {},
     "output_type": "execute_result"
    }
   ],
   "source": [
    "template = \"{0:.2f} {1:s} are worth US${2:d}\"\n",
    "template.format(4.5560, \"Argentine Pesos\", 1)"
   ]
  }
 ],
 "metadata": {
  "kernelspec": {
   "display_name": "Python 3 (ipykernel)",
   "language": "python",
   "name": "python3"
  },
  "language_info": {
   "codemirror_mode": {
    "name": "ipython",
    "version": 3
   },
   "file_extension": ".py",
   "mimetype": "text/x-python",
   "name": "python",
   "nbconvert_exporter": "python",
   "pygments_lexer": "ipython3",
   "version": "3.9.7"
  }
 },
 "nbformat": 4,
 "nbformat_minor": 5
}
