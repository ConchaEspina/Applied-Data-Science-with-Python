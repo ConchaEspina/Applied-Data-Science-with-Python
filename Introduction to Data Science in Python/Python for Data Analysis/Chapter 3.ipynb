{
 "cells": [
  {
   "cell_type": "markdown",
   "id": "803fb7ed",
   "metadata": {},
   "source": [
    "# Chapter 3"
   ]
  },
  {
   "cell_type": "markdown",
   "id": "6a66f829",
   "metadata": {},
   "source": [
    "## 3.1   Data Structures and Sequences"
   ]
  },
  {
   "cell_type": "markdown",
   "id": "b626d44b",
   "metadata": {},
   "source": [
    "### Tuple"
   ]
  },
  {
   "cell_type": "code",
   "execution_count": 1,
   "id": "fec423b8",
   "metadata": {},
   "outputs": [
    {
     "data": {
      "text/plain": [
       "(4, 5, 6)"
      ]
     },
     "execution_count": 1,
     "metadata": {},
     "output_type": "execute_result"
    }
   ],
   "source": [
    "tup = 4, 5, 6\n",
    "tup"
   ]
  },
  {
   "cell_type": "code",
   "execution_count": 2,
   "id": "3b70d878",
   "metadata": {},
   "outputs": [
    {
     "data": {
      "text/plain": [
       "(1, 2, [3, 4, 5])"
      ]
     },
     "execution_count": 2,
     "metadata": {},
     "output_type": "execute_result"
    }
   ],
   "source": [
    "tup2 = 1, 2, [3, 4, 5]\n",
    "tup2"
   ]
  },
  {
   "cell_type": "markdown",
   "id": "18b14673",
   "metadata": {},
   "source": [
    "#### Unpacking tuples"
   ]
  },
  {
   "cell_type": "code",
   "execution_count": 5,
   "id": "bb0e9ac8",
   "metadata": {},
   "outputs": [
    {
     "data": {
      "text/plain": [
       "(1, 2, 3, 4, 5)"
      ]
     },
     "execution_count": 5,
     "metadata": {},
     "output_type": "execute_result"
    }
   ],
   "source": [
    "a, b, [c, d, e] = tup2\n",
    "a, b, c, d, e"
   ]
  },
  {
   "cell_type": "code",
   "execution_count": 6,
   "id": "c0e70983",
   "metadata": {},
   "outputs": [
    {
     "data": {
      "text/plain": [
       "(2, 1)"
      ]
     },
     "execution_count": 6,
     "metadata": {},
     "output_type": "execute_result"
    }
   ],
   "source": [
    "g, h = 1, 2\n",
    "h, g = g, h\n",
    "g, h"
   ]
  },
  {
   "cell_type": "code",
   "execution_count": 7,
   "id": "48911b23",
   "metadata": {},
   "outputs": [
    {
     "data": {
      "text/plain": [
       "[3, 4, 5]"
      ]
     },
     "execution_count": 7,
     "metadata": {},
     "output_type": "execute_result"
    }
   ],
   "source": [
    "values = 1, 2, 3, 4, 5\n",
    "a, b, *c = values\n",
    "c"
   ]
  },
  {
   "cell_type": "markdown",
   "id": "1c995324",
   "metadata": {},
   "source": [
    "### List"
   ]
  },
  {
   "cell_type": "markdown",
   "id": "05b26d00",
   "metadata": {},
   "source": [
    "#### Sorting"
   ]
  },
  {
   "cell_type": "code",
   "execution_count": 11,
   "id": "6e6b4c2d",
   "metadata": {},
   "outputs": [
    {
     "data": {
      "text/plain": [
       "[1, 2, 3, 5, 7]"
      ]
     },
     "execution_count": 11,
     "metadata": {},
     "output_type": "execute_result"
    }
   ],
   "source": [
    "a = [7, 2, 5, 1, 3]\n",
    "a.sort()\n",
    "a"
   ]
  },
  {
   "cell_type": "code",
   "execution_count": 12,
   "id": "219dcd1e",
   "metadata": {},
   "outputs": [
    {
     "data": {
      "text/plain": [
       "[1, 2, 3, 5, 7]"
      ]
     },
     "execution_count": 12,
     "metadata": {},
     "output_type": "execute_result"
    }
   ],
   "source": [
    "b = [7, 2, 5, 1, 3]\n",
    "sorted(b)"
   ]
  },
  {
   "cell_type": "code",
   "execution_count": 13,
   "id": "4ed235c6",
   "metadata": {},
   "outputs": [
    {
     "data": {
      "text/plain": [
       "[7, 2, 5, 1, 3]"
      ]
     },
     "execution_count": 13,
     "metadata": {},
     "output_type": "execute_result"
    }
   ],
   "source": [
    "b"
   ]
  },
  {
   "cell_type": "markdown",
   "id": "5c2c9196",
   "metadata": {},
   "source": [
    "#### Binary search and maintaining a sorted list"
   ]
  },
  {
   "cell_type": "markdown",
   "id": "d1f958ff",
   "metadata": {},
   "source": [
    "The built-in `bisect` module implements binary search and insertion into a sorted list. `bisect.bisect` finds the location where an element should be inserted to keep it sorted, while `bisect.insort` actually inserts the element into that location:"
   ]
  },
  {
   "cell_type": "code",
   "execution_count": 14,
   "id": "eb89cc00",
   "metadata": {},
   "outputs": [],
   "source": [
    "import bisect"
   ]
  },
  {
   "cell_type": "code",
   "execution_count": 17,
   "id": "01ae1216",
   "metadata": {},
   "outputs": [
    {
     "name": "stdout",
     "output_type": "stream",
     "text": [
      "4\n",
      "6\n"
     ]
    }
   ],
   "source": [
    "c = [1, 2, 2, 2, 3, 4, 7]\n",
    "print(bisect.bisect(c, 2))\n",
    "print(bisect.bisect(c, 5))"
   ]
  },
  {
   "cell_type": "code",
   "execution_count": 18,
   "id": "0df54459",
   "metadata": {},
   "outputs": [
    {
     "data": {
      "text/plain": [
       "[1, 2, 2, 2, 3, 4, 5, 7]"
      ]
     },
     "execution_count": 18,
     "metadata": {},
     "output_type": "execute_result"
    }
   ],
   "source": [
    "bisect.insort(c, 5)\n",
    "c"
   ]
  },
  {
   "cell_type": "markdown",
   "id": "5d20569e",
   "metadata": {},
   "source": [
    "The `bisect` module functions do not check whether the list is sorted, as doing so would be computationally expensive. Thus, using them with an unsorted list will succeed without error but may lead to incorrect results."
   ]
  },
  {
   "cell_type": "markdown",
   "id": "5cff60a5",
   "metadata": {},
   "source": [
    "### Built-in Sequence Functions"
   ]
  },
  {
   "cell_type": "markdown",
   "id": "a3293aa7",
   "metadata": {},
   "source": [
    "#### enumerate"
   ]
  },
  {
   "cell_type": "code",
   "execution_count": 19,
   "id": "d1547194",
   "metadata": {},
   "outputs": [],
   "source": [
    "some_list = [\"foo\", \"bar\", \"baz\"]\n",
    "mapping = {}"
   ]
  },
  {
   "cell_type": "code",
   "execution_count": 20,
   "id": "45912dbf",
   "metadata": {},
   "outputs": [
    {
     "data": {
      "text/plain": [
       "{'foo': 0, 'bar': 1, 'baz': 2}"
      ]
     },
     "execution_count": 20,
     "metadata": {},
     "output_type": "execute_result"
    }
   ],
   "source": [
    "for i, v in enumerate(some_list):\n",
    "    mapping[v] = i\n",
    "    \n",
    "mapping"
   ]
  },
  {
   "cell_type": "markdown",
   "id": "96dd8040",
   "metadata": {},
   "source": [
    "#### zip"
   ]
  },
  {
   "cell_type": "markdown",
   "id": "b034b6be",
   "metadata": {},
   "source": [
    "`zip` can take an arbitrary number of sequences, and the number of elements it produces is determined by the shortest sequence:"
   ]
  },
  {
   "cell_type": "code",
   "execution_count": 22,
   "id": "34f58984",
   "metadata": {},
   "outputs": [
    {
     "data": {
      "text/plain": [
       "[(1, True), (2, False)]"
      ]
     },
     "execution_count": 22,
     "metadata": {},
     "output_type": "execute_result"
    }
   ],
   "source": [
    "seq1 = [1, 2, 3]\n",
    "seq2 = [True, False]\n",
    "\n",
    "zipped = zip(seq1, seq2)\n",
    "list(zipped)"
   ]
  },
  {
   "cell_type": "markdown",
   "id": "124bf88a",
   "metadata": {},
   "source": [
    "A very common use of `zip` is simultaneously iterating over multiple sequences, possibly also combined with `enumerate`:"
   ]
  },
  {
   "cell_type": "code",
   "execution_count": 23,
   "id": "2c0ba400",
   "metadata": {},
   "outputs": [
    {
     "name": "stdout",
     "output_type": "stream",
     "text": [
      "0: one, foo\n",
      "1: two, bar\n",
      "2: three, baz\n"
     ]
    }
   ],
   "source": [
    "seq1 = [\"one\", \"two\", \"three\"]\n",
    "seq2 = [\"foo\", \"bar\", \"baz\"]\n",
    "\n",
    "for i, (a, b) in enumerate(zip(seq1, seq2)):\n",
    "    print(\"{0}: {1}, {2}\".format(i, a, b))"
   ]
  },
  {
   "cell_type": "markdown",
   "id": "fd1d158c",
   "metadata": {},
   "source": [
    "Given a “zipped” sequence, `zip` can be applied in a clever way to “unzip” the sequence. Another way to think about this is converting a list of *rows* into a list of *columns*. The syntax, which looks a bit magical, is:"
   ]
  },
  {
   "cell_type": "code",
   "execution_count": 24,
   "id": "3cc26af4",
   "metadata": {},
   "outputs": [
    {
     "name": "stdout",
     "output_type": "stream",
     "text": [
      "('Nolan', 'Roger', 'Schilling')\n",
      "('Ryan', 'Clemens', 'Curt')\n"
     ]
    }
   ],
   "source": [
    "pitchers = [(\"Nolan\", \"Ryan\"), (\"Roger\", \"Clemens\"), (\"Schilling\", \"Curt\")]\n",
    "first_names, last_names = zip(*pitchers)\n",
    "print(first_names)\n",
    "print(last_names)"
   ]
  },
  {
   "cell_type": "code",
   "execution_count": 26,
   "id": "1622cc55",
   "metadata": {},
   "outputs": [
    {
     "data": {
      "text/plain": [
       "[('Nolan', 'Roger', 'Schilling'), ('Ryan', 'Clemens', 'Curt')]"
      ]
     },
     "execution_count": 26,
     "metadata": {},
     "output_type": "execute_result"
    }
   ],
   "source": [
    "list(zip(*pitchers))"
   ]
  },
  {
   "cell_type": "markdown",
   "id": "2fb3b9ae",
   "metadata": {},
   "source": [
    "### Dict"
   ]
  },
  {
   "cell_type": "markdown",
   "id": "115d6085",
   "metadata": {},
   "source": [
    "You can merge one dict into another using the `update` method:"
   ]
  },
  {
   "cell_type": "code",
   "execution_count": 27,
   "id": "c68c8a57",
   "metadata": {},
   "outputs": [
    {
     "data": {
      "text/plain": [
       "{'a': 'some value', 'b': 'foo', 7: 'an integer', 'c': 12}"
      ]
     },
     "execution_count": 27,
     "metadata": {},
     "output_type": "execute_result"
    }
   ],
   "source": [
    "d1 = {\"a\": \"some value\", \"b\": [1, 2, 3, 4], 7: \"an integer\"}\n",
    "d1.update({\"b\": \"foo\", \"c\": 12})\n",
    "d1"
   ]
  },
  {
   "cell_type": "markdown",
   "id": "5d049a58",
   "metadata": {},
   "source": [
    "#### Creating dicts from sequences"
   ]
  },
  {
   "cell_type": "code",
   "execution_count": 28,
   "id": "fb6e213e",
   "metadata": {},
   "outputs": [
    {
     "data": {
      "text/plain": [
       "{'a': ['apple', 'atom'], 'b': ['banana', 'ban', 'bar']}"
      ]
     },
     "execution_count": 28,
     "metadata": {},
     "output_type": "execute_result"
    }
   ],
   "source": [
    "key_list = [\"a\", \"b\"]\n",
    "value_list = [[\"apple\", \"atom\"], [\"banana\", \"ban\", \"bar\"]]\n",
    "\n",
    "mapping = {}\n",
    "for key, value in zip(key_list, value_list):\n",
    "    mapping[key] = value\n",
    "    \n",
    "mapping"
   ]
  },
  {
   "cell_type": "markdown",
   "id": "74555c72",
   "metadata": {},
   "source": [
    "#### Default values"
   ]
  },
  {
   "cell_type": "markdown",
   "id": "7a541195",
   "metadata": {},
   "source": [
    "It’s very common to have logic like:    \n",
    "```python\n",
    "if key in some_dict:\n",
    "    value = some_dict[key]\n",
    "else:\n",
    "    value = default_value\n",
    "```\n",
    "Thus, the dict methods `get` and `pop` can take a default value to be returned, so that the above `if-else` block can be written simply as:    \n",
    "```python\n",
    "value = some_dict.get(key, default_value)\n",
    "```\n",
    "`get` by default will return `None` if the key is not present, while `pop` will raise an exception."
   ]
  },
  {
   "cell_type": "markdown",
   "id": "a835aac5",
   "metadata": {},
   "source": [
    "With *setting* values, a common case is for the values in a dict to be other collections, like lists. For example, you could imagine categorizing a list of words by their first letters as a dict of lists:"
   ]
  },
  {
   "cell_type": "code",
   "execution_count": 29,
   "id": "56cd1fb4",
   "metadata": {},
   "outputs": [
    {
     "data": {
      "text/plain": [
       "{'a': ['apple', 'atom'], 'b': ['bar', 'banana', 'book']}"
      ]
     },
     "execution_count": 29,
     "metadata": {},
     "output_type": "execute_result"
    }
   ],
   "source": [
    "words = [\"apple\", \"bar\", \"atom\", \"banana\", \"book\"]\n",
    "by_letter = {}\n",
    "\n",
    "for word in words:\n",
    "    letter = word[0]\n",
    "    if letter not in by_letter:\n",
    "        by_letter[letter] = [word]\n",
    "    else:\n",
    "        by_letter[letter].append(word)\n",
    "        \n",
    "by_letter"
   ]
  },
  {
   "cell_type": "markdown",
   "id": "59db1233",
   "metadata": {},
   "source": [
    "The `setdefault` dict method is for precisely this purpose. The preceding for loop can be rewritten as:"
   ]
  },
  {
   "cell_type": "code",
   "execution_count": 30,
   "id": "de010806",
   "metadata": {},
   "outputs": [
    {
     "data": {
      "text/plain": [
       "{'a': ['apple', 'atom'], 'b': ['bar', 'banana', 'book']}"
      ]
     },
     "execution_count": 30,
     "metadata": {},
     "output_type": "execute_result"
    }
   ],
   "source": [
    "by_letter2 = {}\n",
    "\n",
    "for word in words:\n",
    "    letter = word[0]\n",
    "    by_letter2.setdefault(letter, []).append(word)\n",
    "    \n",
    "by_letter2"
   ]
  },
  {
   "cell_type": "code",
   "execution_count": 31,
   "id": "d45bd6ab",
   "metadata": {},
   "outputs": [],
   "source": [
    "dict.setdefault?"
   ]
  },
  {
   "cell_type": "markdown",
   "id": "c55d53e8",
   "metadata": {},
   "source": [
    "The built-in `collections` module has a useful class, `defaultdict`, which makes this even easier. To create one, you pass a type or function for generating the default value for each slot in the dict:"
   ]
  },
  {
   "cell_type": "code",
   "execution_count": 32,
   "id": "22aa42f9",
   "metadata": {},
   "outputs": [
    {
     "data": {
      "text/plain": [
       "defaultdict(list, {'a': ['apple', 'atom'], 'b': ['bar', 'banana', 'book']})"
      ]
     },
     "execution_count": 32,
     "metadata": {},
     "output_type": "execute_result"
    }
   ],
   "source": [
    "from collections import defaultdict\n",
    "by_letter3 = defaultdict(list)\n",
    "for word in words:\n",
    "    by_letter3[word[0]].append(word)\n",
    "    \n",
    "by_letter3"
   ]
  },
  {
   "cell_type": "code",
   "execution_count": 33,
   "id": "0ac3e2e3",
   "metadata": {},
   "outputs": [],
   "source": [
    "defaultdict?"
   ]
  },
  {
   "cell_type": "markdown",
   "id": "b8d4d995",
   "metadata": {},
   "source": [
    "### Set"
   ]
  },
  {
   "cell_type": "code",
   "execution_count": 35,
   "id": "e53e6afd",
   "metadata": {},
   "outputs": [
    {
     "name": "stdout",
     "output_type": "stream",
     "text": [
      "{1, 2, 3, 4}\n",
      "{(1, 2, 3, 4)}\n"
     ]
    }
   ],
   "source": [
    "my_data = [1, 2, 3, 4]\n",
    "my_set1 = set(my_data)\n",
    "my_set2 = {tuple(my_data)}\n",
    "print(my_set1)\n",
    "print(my_set2)"
   ]
  },
  {
   "cell_type": "markdown",
   "id": "bef078ef",
   "metadata": {},
   "source": [
    "## 3.2   Functions"
   ]
  },
  {
   "cell_type": "markdown",
   "id": "7e06dae8",
   "metadata": {},
   "source": [
    "### Currying: Partial Argument Application"
   ]
  },
  {
   "cell_type": "markdown",
   "id": "61fa5f97",
   "metadata": {},
   "source": [
    "*Currying* is computer science jargon (named after the mathematician Haskell Curry) that means deriving new functions from existing ones by *partial argument application*. "
   ]
  },
  {
   "cell_type": "markdown",
   "id": "a9571440",
   "metadata": {},
   "source": [
    "The blocks below are equivalent:"
   ]
  },
  {
   "cell_type": "code",
   "execution_count": 37,
   "id": "e2a8962f",
   "metadata": {},
   "outputs": [],
   "source": [
    "def add_numbers(x, y):\n",
    "    return x + y\n",
    "\n",
    "add_five = lambda y: add_numbers(y, 5)"
   ]
  },
  {
   "cell_type": "code",
   "execution_count": 38,
   "id": "9fea82bb",
   "metadata": {},
   "outputs": [],
   "source": [
    "from functools import partial\n",
    "add_five = partial(add_numbers, 5)"
   ]
  },
  {
   "cell_type": "code",
   "execution_count": 39,
   "id": "ddcdf5b8",
   "metadata": {},
   "outputs": [
    {
     "data": {
      "text/plain": [
       "7"
      ]
     },
     "execution_count": 39,
     "metadata": {},
     "output_type": "execute_result"
    }
   ],
   "source": [
    "add_five(2)"
   ]
  },
  {
   "cell_type": "markdown",
   "id": "bb8fe914",
   "metadata": {},
   "source": [
    "### Generator"
   ]
  },
  {
   "cell_type": "code",
   "execution_count": 40,
   "id": "d170b0c6",
   "metadata": {},
   "outputs": [
    {
     "data": {
      "text/plain": [
       "['a', 'b', 'c']"
      ]
     },
     "execution_count": 40,
     "metadata": {},
     "output_type": "execute_result"
    }
   ],
   "source": [
    "some_dict = {\"a\": 1, \"b\": 2, \"c\": 3}\n",
    "list(iter(some_dict))"
   ]
  },
  {
   "cell_type": "markdown",
   "id": "3e9b7132",
   "metadata": {},
   "source": [
    "A *generator* is a concise way to construct a new iterable object. Whereas normal functions execute and return a single result at a time, generators return a sequence of multiple results lazily, pausing after each one until the next one is requested. To create a generator, use the `yield` keyword instead of return in a function:"
   ]
  },
  {
   "cell_type": "code",
   "execution_count": 41,
   "id": "d71ac396",
   "metadata": {},
   "outputs": [],
   "source": [
    "def squares(n = 10):\n",
    "    print(\"Generating squares from 1 to {0}\".format(n ** 2))\n",
    "    for i in range(1, n + 1):\n",
    "        yield i ** 2"
   ]
  },
  {
   "cell_type": "code",
   "execution_count": 43,
   "id": "fda94f8e",
   "metadata": {},
   "outputs": [
    {
     "data": {
      "text/plain": [
       "<generator object squares at 0x7ff5c7cda190>"
      ]
     },
     "execution_count": 43,
     "metadata": {},
     "output_type": "execute_result"
    }
   ],
   "source": [
    "gen = squares()\n",
    "gen"
   ]
  },
  {
   "cell_type": "code",
   "execution_count": 44,
   "id": "68a46718",
   "metadata": {},
   "outputs": [
    {
     "name": "stdout",
     "output_type": "stream",
     "text": [
      "Generating squares from 1 to 100\n",
      "1 4 9 16 25 36 49 64 81 100 "
     ]
    }
   ],
   "source": [
    "for x in gen:\n",
    "    print(x, end = \" \")"
   ]
  },
  {
   "cell_type": "markdown",
   "id": "0b3a1d4a",
   "metadata": {},
   "source": [
    "#### Generator expresssions"
   ]
  },
  {
   "cell_type": "markdown",
   "id": "5aa835b0",
   "metadata": {},
   "source": [
    "Another even more concise way to make a generator is by using a *generator expression*. This is a generator analogue to list, dict, and set comprehensions; to create one, enclose what would otherwise be a list comprehension within parentheses instead of brackets:"
   ]
  },
  {
   "cell_type": "code",
   "execution_count": 47,
   "id": "ec19ce39",
   "metadata": {},
   "outputs": [
    {
     "data": {
      "text/plain": [
       "<generator object <genexpr> at 0x7ff5c7cda430>"
      ]
     },
     "execution_count": 47,
     "metadata": {},
     "output_type": "execute_result"
    }
   ],
   "source": [
    "gen = (x ** 2 for x in range(11))\n",
    "gen"
   ]
  },
  {
   "cell_type": "code",
   "execution_count": 48,
   "id": "0bdb9d66",
   "metadata": {},
   "outputs": [
    {
     "data": {
      "text/plain": [
       "[0, 1, 4, 9, 16, 25, 36, 49, 64, 81, 100]"
      ]
     },
     "execution_count": 48,
     "metadata": {},
     "output_type": "execute_result"
    }
   ],
   "source": [
    "list(gen)"
   ]
  },
  {
   "cell_type": "markdown",
   "id": "a35ae1a0",
   "metadata": {},
   "source": [
    "#### `itertools` module"
   ]
  },
  {
   "cell_type": "markdown",
   "id": "b7197769",
   "metadata": {},
   "source": [
    "The standard library `itertools` module has a collection of generators for many common data algorithms. For example, `groupby` takes any sequence and a function, grouping consecutive elements in the sequence by return value of the function. Here’s an example:"
   ]
  },
  {
   "cell_type": "code",
   "execution_count": 49,
   "id": "d8280232",
   "metadata": {},
   "outputs": [
    {
     "name": "stdout",
     "output_type": "stream",
     "text": [
      "A ['Alan', 'Ann']\n",
      "W ['Wes', 'Will']\n",
      "A ['Aurora']\n",
      "S ['Simon']\n"
     ]
    }
   ],
   "source": [
    "import itertools\n",
    "\n",
    "first_letter = lambda x: x[0]\n",
    "names = [\"Alan\", \"Ann\", \"Wes\", \"Will\", \"Aurora\", \"Simon\"]\n",
    "\n",
    "for letter, names in itertools.groupby(names, first_letter):\n",
    "    print(letter, list(names))"
   ]
  },
  {
   "cell_type": "code",
   "execution_count": 50,
   "id": "8fdd72cf",
   "metadata": {},
   "outputs": [],
   "source": [
    "itertools.groupby?"
   ]
  },
  {
   "cell_type": "markdown",
   "id": "4eb6db3b",
   "metadata": {},
   "source": [
    "Other methods in `itertools`:"
   ]
  },
  {
   "cell_type": "code",
   "execution_count": 61,
   "id": "4be6062d",
   "metadata": {},
   "outputs": [
    {
     "name": "stdout",
     "output_type": "stream",
     "text": [
      "(2, 4, 5, 7)\n",
      "(2, 4, 5, 9)\n",
      "(2, 4, 5, 10)\n",
      "(2, 4, 7, 9)\n",
      "(2, 4, 7, 10)\n",
      "(2, 4, 9, 10)\n",
      "(2, 5, 7, 9)\n",
      "(2, 5, 7, 10)\n",
      "(2, 5, 9, 10)\n",
      "(2, 7, 9, 10)\n",
      "(4, 5, 7, 9)\n",
      "(4, 5, 7, 10)\n",
      "(4, 5, 9, 10)\n",
      "(4, 7, 9, 10)\n",
      "(5, 7, 9, 10)\n"
     ]
    }
   ],
   "source": [
    "for comb in itertools.combinations([2, 4, 5, 7, 9, 10], r = 4):\n",
    "    print(comb)"
   ]
  },
  {
   "cell_type": "code",
   "execution_count": 62,
   "id": "e07ff006",
   "metadata": {},
   "outputs": [
    {
     "name": "stdout",
     "output_type": "stream",
     "text": [
      "(3, 5, 7)\n",
      "(3, 5, 8)\n",
      "(3, 7, 5)\n",
      "(3, 7, 8)\n",
      "(3, 8, 5)\n",
      "(3, 8, 7)\n",
      "(5, 3, 7)\n",
      "(5, 3, 8)\n",
      "(5, 7, 3)\n",
      "(5, 7, 8)\n",
      "(5, 8, 3)\n",
      "(5, 8, 7)\n",
      "(7, 3, 5)\n",
      "(7, 3, 8)\n",
      "(7, 5, 3)\n",
      "(7, 5, 8)\n",
      "(7, 8, 3)\n",
      "(7, 8, 5)\n",
      "(8, 3, 5)\n",
      "(8, 3, 7)\n",
      "(8, 5, 3)\n",
      "(8, 5, 7)\n",
      "(8, 7, 3)\n",
      "(8, 7, 5)\n"
     ]
    }
   ],
   "source": [
    "for perm in itertools.permutations([3, 5, 7, 8], r = 3):\n",
    "    print(perm)"
   ]
  },
  {
   "cell_type": "code",
   "execution_count": 65,
   "id": "caec2b1c",
   "metadata": {},
   "outputs": [
    {
     "name": "stdout",
     "output_type": "stream",
     "text": [
      "('a', 1)\n",
      "('a', 2)\n",
      "('b', 1)\n",
      "('b', 2)\n",
      "('c', 1)\n",
      "('c', 2)\n"
     ]
    }
   ],
   "source": [
    "for prod in itertools.product([\"a\", \"b\", \"c\"], [1, 2]):   # 笛卡尔积\n",
    "    print(prod)"
   ]
  }
 ],
 "metadata": {
  "kernelspec": {
   "display_name": "Python 3 (ipykernel)",
   "language": "python",
   "name": "python3"
  },
  "language_info": {
   "codemirror_mode": {
    "name": "ipython",
    "version": 3
   },
   "file_extension": ".py",
   "mimetype": "text/x-python",
   "name": "python",
   "nbconvert_exporter": "python",
   "pygments_lexer": "ipython3",
   "version": "3.9.7"
  }
 },
 "nbformat": 4,
 "nbformat_minor": 5
}
