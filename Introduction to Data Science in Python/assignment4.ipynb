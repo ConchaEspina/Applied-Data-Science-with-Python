{
 "cells": [
  {
   "cell_type": "markdown",
   "metadata": {
    "deletable": false,
    "editable": false,
    "nbgrader": {
     "checksum": "48770f8b5f5d3062d3badd51fcafc401",
     "grade": false,
     "grade_id": "cell-a6c4f74309fc2379",
     "locked": true,
     "schema_version": 1,
     "solution": false
    }
   },
   "source": [
    "# Assignment 4\n",
    "## Description\n",
    "In this assignment you must read in a file of metropolitan regions and associated sports teams from [assets/wikipedia_data.html](assets/wikipedia_data.html) and answer some questions about each metropolitan region. Each of these regions may have one or more teams from the \"Big 4\": NFL (football, in [assets/nfl.csv](assets/nfl.csv)), MLB (baseball, in [assets/mlb.csv](assets/mlb.csv)), NBA (basketball, in [assets/nba.csv](assets/nba.csv) or NHL (hockey, in [assets/nhl.csv](assets/nhl.csv)). Please keep in mind that all questions are from the perspective of the metropolitan region, and that this file is the \"source of authority\" for the location of a given sports team. Thus teams which are commonly known by a different area (e.g. \"Oakland Raiders\") need to be mapped into the metropolitan region given (e.g. San Francisco Bay Area). This will require some human data understanding outside of the data you've been given (e.g. you will have to hand-code some names, and might need to google to find out where teams are)!\n",
    "\n",
    "For each sport I would like you to answer the question: **what is the win/loss ratio's correlation with the population of the city it is in?** Win/Loss ratio refers to the number of wins over the number of wins plus the number of losses. Remember that to calculate the correlation with [`pearsonr`](https://docs.scipy.org/doc/scipy/reference/generated/scipy.stats.pearsonr.html), so you are going to send in two ordered lists of values, the populations from the wikipedia_data.html file and the win/loss ratio for a given sport in the same order. Average the win/loss ratios for those cities which have multiple teams of a single sport. Each sport is worth an equal amount in this assignment (20%\\*4=80%) of the grade for this assignment. You should only use data **from year 2018** for your analysis -- this is important!\n",
    "\n",
    "## Notes\n",
    "\n",
    "1. Do not include data about the MLS or CFL in any of the work you are doing, we're only interested in the Big 4 in this assignment.\n",
    "2. I highly suggest that you first tackle the four correlation questions in order, as they are all similar and worth the majority of grades for this assignment. This is by design!\n",
    "3. It's fair game to talk with peers about high level strategy as well as the relationship between metropolitan areas and sports teams. However, do not post code solving aspects of the assignment (including such as dictionaries mapping areas to teams, or regexes which will clean up names).\n",
    "4. There may be more teams than the assert statements test, remember to collapse multiple teams in one city into a single value!"
   ]
  },
  {
   "cell_type": "markdown",
   "metadata": {
    "deletable": false,
    "editable": false,
    "nbgrader": {
     "checksum": "369ff9ecf0ee04640574205cbc697f94",
     "grade": false,
     "grade_id": "cell-712b2b5da63d4505",
     "locked": true,
     "schema_version": 1,
     "solution": false
    }
   },
   "source": [
    "## Question 1\n",
    "For this question, calculate the win/loss ratio's correlation with the population of the city it is in for the **NHL** using **2018** data."
   ]
  },
  {
   "cell_type": "code",
   "execution_count": 1,
   "metadata": {
    "deletable": false,
    "nbgrader": {
     "checksum": "1cac4803b02502929f5b1612d48db2b5",
     "grade": false,
     "grade_id": "cell-69b16e4386e58030",
     "locked": false,
     "schema_version": 1,
     "solution": true
    }
   },
   "outputs": [],
   "source": [
    "import pandas as pd\n",
    "import numpy as np\n",
    "import scipy.stats as stats\n",
    "import re\n",
    "\n",
    "nhl_df=pd.read_csv(\"assets/nhl.csv\")\n",
    "cities=pd.read_html(\"assets/wikipedia_data.html\")[1]\n",
    "cities=cities.iloc[:-1,[0,3,5,6,7,8]]\n",
    "\n",
    "def nhl_correlation(): \n",
    "    nhl2018 = nhl_df.loc[nhl_df['year'] == 2018, ['team', 'W', 'L']]\n",
    "    nhl2018 = nhl2018[nhl2018['W'].str.isdigit()]\n",
    "    nhl2018['team'] = nhl2018['team'].replace(regex=r'\\*$', value='')\n",
    "    nhl2018['team_short'] = [team.split(' ')[-1] for team in nhl2018['team']]\n",
    "    \n",
    "    cities_nhl = cities[['Metropolitan area', 'Population (2016 est.)[8]', 'NHL']]\n",
    "    cities_nhl.rename(columns={'Metropolitan area': 'Metropolitan', 'Population (2016 est.)[8]': 'Population'}, \n",
    "                      inplace=True)\n",
    "    cities_nhl['NHL'] = cities_nhl['NHL'].replace(regex=r'\\[.*\\]', value='').replace({'—': np.nan, '': np.nan})\n",
    "    cities_nhl.dropna(inplace=True)\n",
    "    cities_nhl['NHL'] = [re.findall(r'[A-Z][^A-Z]*', re.sub(r'\\s', '', team)) for team in cities_nhl['NHL']]\n",
    "    \n",
    "    new_df = []\n",
    "    for i in cities_nhl.index:\n",
    "        for team in cities_nhl['NHL'][i]:\n",
    "            new_df.append([cities_nhl['Metropolitan'][i], cities_nhl['Population'][i], team])\n",
    "    cities_nhl_full = pd.DataFrame(new_df, columns=cities_nhl.columns)\n",
    "    \n",
    "    nhl = nhl2018.merge(cities_nhl_full, left_on='team_short', right_on='NHL')[['Metropolitan', 'Population', 'W', 'L']]\n",
    "    nhl = nhl.astype({'Population': 'int', 'W': 'int', 'L': 'int'})\n",
    "    nhl['WinLoss'] = nhl['W'] / (nhl['W']+nhl['L'])\n",
    "    nhl = nhl.groupby(['Metropolitan', 'Population']).agg('mean').reset_index()\n",
    "    #nhl['WinLoss'] = nhl['W'] / nhl['L']\n",
    "    \n",
    "    population_by_region = [pop for pop in nhl['Population']] # pass in metropolitan area population from cities\n",
    "    win_loss_by_region = [wl for wl in nhl['WinLoss']] # pass in win/loss ratio from nhl_df in the same order as cities[\"Metropolitan area\"]\n",
    "\n",
    "    assert len(population_by_region) == len(win_loss_by_region), \"Q1: Your lists must be the same length\"\n",
    "    assert len(population_by_region) == 28, \"Q1: There should be 28 teams being analysed for NHL\"\n",
    "    \n",
    "    return stats.pearsonr(population_by_region, win_loss_by_region)[0]"
   ]
  },
  {
   "cell_type": "code",
   "execution_count": null,
   "metadata": {
    "deletable": false,
    "editable": false,
    "nbgrader": {
     "checksum": "52a581df513c71153e105b93764cda4b",
     "grade": true,
     "grade_id": "cell-ebe0b2dfe1067e63",
     "locked": true,
     "points": 20,
     "schema_version": 1,
     "solution": false
    }
   },
   "outputs": [],
   "source": []
  },
  {
   "cell_type": "markdown",
   "metadata": {
    "deletable": false,
    "editable": false,
    "nbgrader": {
     "checksum": "988912cae4968d81473f46d783e79c16",
     "grade": false,
     "grade_id": "cell-cb964e690298b71d",
     "locked": true,
     "schema_version": 1,
     "solution": false
    }
   },
   "source": [
    "## Question 2\n",
    "For this question, calculate the win/loss ratio's correlation with the population of the city it is in for the **NBA** using **2018** data."
   ]
  },
  {
   "cell_type": "code",
   "execution_count": 3,
   "metadata": {
    "deletable": false,
    "nbgrader": {
     "checksum": "9394222aafc8ccab0a228098ba0d6010",
     "grade": false,
     "grade_id": "cell-5a5f21279e3d3572",
     "locked": false,
     "schema_version": 1,
     "solution": true
    }
   },
   "outputs": [],
   "source": [
    "import pandas as pd\n",
    "import numpy as np\n",
    "import scipy.stats as stats\n",
    "import re\n",
    "\n",
    "nba_df=pd.read_csv(\"assets/nba.csv\")\n",
    "cities=pd.read_html(\"assets/wikipedia_data.html\")[1]\n",
    "cities=cities.iloc[:-1,[0,3,5,6,7,8]]\n",
    "\n",
    "def nba_correlation():\n",
    "    nba2018 = nba_df.loc[nba_df['year'] == 2018, ['team', 'W', 'L']]\n",
    "    nba2018['team'] = nba2018['team'].replace(regex=r'[\\*]*\\s\\(\\d+\\)$', value='')\n",
    "    nba2018['team_short'] = [team.split(' ')[-1] for team in nba2018['team']]\n",
    "    \n",
    "    cities_nba = cities[['Metropolitan area', 'Population (2016 est.)[8]', 'NBA']]\n",
    "    cities_nba.rename(columns={'Metropolitan area': 'Metropolitan', 'Population (2016 est.)[8]': 'Population'}, \n",
    "                      inplace=True)\n",
    "    cities_nba['NBA'] = cities_nba['NBA'].replace(regex=r'\\[.*\\]', value='').replace({'—': np.nan, '': np.nan})\n",
    "    cities_nba.dropna(inplace=True)\n",
    "    cities_nba['NBA'] = [re.findall(r'[A-Z0-9][^A-Z]*', re.sub(r'\\s', '', team)) for team in cities_nba['NBA']]\n",
    "    \n",
    "    new_df = []\n",
    "    for i in cities_nba.index:\n",
    "        for team in cities_nba['NBA'][i]:\n",
    "            new_df.append([cities_nba['Metropolitan'][i], cities_nba['Population'][i], team])\n",
    "    cities_nba_full = pd.DataFrame(new_df, columns=cities_nba.columns)\n",
    "    \n",
    "    nba = nba2018.merge(cities_nba_full, left_on='team_short', right_on='NBA')[['Metropolitan', 'Population', 'W', 'L']]\n",
    "    nba = nba.astype({'Population': 'int', 'W': 'int', 'L': 'int'})\n",
    "    nba['WinLoss'] = nba['W'] / (nba['W']+nba['L'])\n",
    "    nba = nba.groupby(['Metropolitan', 'Population']).agg('mean').reset_index()\n",
    "    #nba['WinLoss'] = nba['W'] / nba['L']\n",
    "    \n",
    "    population_by_region = [pop for pop in nba['Population']] # pass in metropolitan area population from cities\n",
    "    win_loss_by_region = [wl for wl in nba['WinLoss']] # pass in win/loss ratio from nba_df in the same order as cities[\"Metropolitan area\"]\n",
    "\n",
    "    assert len(population_by_region) == len(win_loss_by_region), \"Q2: Your lists must be the same length\"\n",
    "    assert len(population_by_region) == 28, \"Q2: There should be 28 teams being analysed for NBA\"\n",
    "\n",
    "    return stats.pearsonr(population_by_region, win_loss_by_region)[0]"
   ]
  },
  {
   "cell_type": "code",
   "execution_count": null,
   "metadata": {
    "deletable": false,
    "editable": false,
    "nbgrader": {
     "checksum": "bbdeb8eb22f525a34c10dc8798324e42",
     "grade": true,
     "grade_id": "cell-e573b2b4a282b470",
     "locked": true,
     "points": 20,
     "schema_version": 1,
     "solution": false
    }
   },
   "outputs": [],
   "source": []
  },
  {
   "cell_type": "markdown",
   "metadata": {
    "deletable": false,
    "editable": false,
    "nbgrader": {
     "checksum": "1a1a5809f675ca033086422007cd73bd",
     "grade": false,
     "grade_id": "cell-96e15e4335df78f4",
     "locked": true,
     "schema_version": 1,
     "solution": false
    }
   },
   "source": [
    "## Question 3\n",
    "For this question, calculate the win/loss ratio's correlation with the population of the city it is in for the **MLB** using **2018** data."
   ]
  },
  {
   "cell_type": "code",
   "execution_count": 22,
   "metadata": {
    "deletable": false,
    "nbgrader": {
     "checksum": "27e8c0da6c9fa0dffc10488314335b6c",
     "grade": false,
     "grade_id": "cell-33b00fc3f3467b0c",
     "locked": false,
     "schema_version": 1,
     "solution": true
    }
   },
   "outputs": [],
   "source": [
    "import pandas as pd\n",
    "import numpy as np\n",
    "import scipy.stats as stats\n",
    "import re\n",
    "\n",
    "mlb_df=pd.read_csv(\"assets/mlb.csv\")\n",
    "cities=pd.read_html(\"assets/wikipedia_data.html\")[1]\n",
    "cities=cities.iloc[:-1,[0,3,5,6,7,8]]\n",
    "\n",
    "def mlb_correlation(): \n",
    "    mlb2018 = mlb_df.loc[mlb_df['year'] == 2018, ['team', 'W', 'L']]\n",
    "    mlb2018['team_short'] = [team.split(' ')[-1] for team in mlb2018['team']]\n",
    "    mlb2018['team_short'][mlb2018['team_short'].duplicated()] += '1'\n",
    "    \n",
    "    cities_mlb = cities[['Metropolitan area', 'Population (2016 est.)[8]', 'MLB']]\n",
    "    cities_mlb.rename(columns={'Metropolitan area': 'Metropolitan', 'Population (2016 est.)[8]': 'Population'}, \n",
    "                      inplace=True)\n",
    "    cities_mlb['MLB'] = cities_mlb['MLB'].replace(regex=r'\\[.*\\]', value='').replace({'—': np.nan, '': np.nan})\n",
    "    cities_mlb.dropna(inplace=True)\n",
    "    cities_mlb['MLB'] = [re.findall(r'[A-Z][^A-Z]*', re.sub(r'\\s', '', team)) for team in cities_mlb['MLB']]\n",
    "    cities_mlb['MLB'][cities_mlb['Metropolitan'] == 'Chicago'][3][2] = 'Sox1'\n",
    "    \n",
    "    new_df = []\n",
    "    for i in cities_mlb.index:\n",
    "        for team in cities_mlb['MLB'][i]:\n",
    "            new_df.append([cities_mlb['Metropolitan'][i], cities_mlb['Population'][i], team])\n",
    "    cities_mlb_full = pd.DataFrame(new_df, columns=cities_mlb.columns)\n",
    "    \n",
    "    mlb = mlb2018.merge(cities_mlb_full, left_on='team_short', right_on='MLB')[['Metropolitan', 'Population', 'W', 'L']]\n",
    "    mlb = mlb.astype({'Population': 'int', 'W': 'int', 'L': 'int'})\n",
    "    mlb['WinLoss'] = mlb['W'] / (mlb['W']+mlb['L'])\n",
    "    mlb = mlb.groupby(['Metropolitan', 'Population']).agg('mean').reset_index()\n",
    "    #mlb['WinLoss'] = mlb['W'] / mlb['L']\n",
    "    \n",
    "    \n",
    "    population_by_region = [pop for pop in mlb['Population']] # pass in metropolitan area population from cities\n",
    "    win_loss_by_region = [wl for wl in mlb['WinLoss']] # pass in win/loss ratio from mlb_df in the same order as cities[\"Metropolitan area\"]\n",
    "\n",
    "    assert len(population_by_region) == len(win_loss_by_region), \"Q3: Your lists must be the same length\"\n",
    "    assert len(population_by_region) == 26, \"Q3: There should be 26 teams being analysed for MLB\"\n",
    "\n",
    "    return stats.pearsonr(population_by_region, win_loss_by_region)[0]"
   ]
  },
  {
   "cell_type": "code",
   "execution_count": null,
   "metadata": {
    "deletable": false,
    "editable": false,
    "nbgrader": {
     "checksum": "cda33b094ba19ccc37a481e0dd29e0bc",
     "grade": true,
     "grade_id": "cell-764d4476f425c5a2",
     "locked": true,
     "points": 20,
     "schema_version": 1,
     "solution": false
    }
   },
   "outputs": [],
   "source": []
  },
  {
   "cell_type": "markdown",
   "metadata": {
    "deletable": false,
    "editable": false,
    "nbgrader": {
     "checksum": "6977a6da9ed6d8b7a0b7e37bbeda709b",
     "grade": false,
     "grade_id": "cell-793df6c04dfb126e",
     "locked": true,
     "schema_version": 1,
     "solution": false
    }
   },
   "source": [
    "## Question 4\n",
    "For this question, calculate the win/loss ratio's correlation with the population of the city it is in for the **NFL** using **2018** data."
   ]
  },
  {
   "cell_type": "code",
   "execution_count": 29,
   "metadata": {
    "deletable": false,
    "nbgrader": {
     "checksum": "c4914ad1e119278ec2bd567c52640b66",
     "grade": false,
     "grade_id": "cell-8ccebc209aeec8d9",
     "locked": false,
     "schema_version": 1,
     "solution": true
    }
   },
   "outputs": [],
   "source": [
    "import pandas as pd\n",
    "import numpy as np\n",
    "import scipy.stats as stats\n",
    "import re\n",
    "\n",
    "nfl_df=pd.read_csv(\"assets/nfl.csv\")\n",
    "cities=pd.read_html(\"assets/wikipedia_data.html\")[1]\n",
    "cities=cities.iloc[:-1,[0,3,5,6,7,8]]\n",
    "\n",
    "def nfl_correlation(): \n",
    "    nfl2018 = nfl_df.loc[nfl_df['year'] == 2018, ['team', 'W', 'L']]\n",
    "    nfl2018 = nfl2018[nfl2018['W'].str.isdigit()]\n",
    "    nfl2018['team'] = nfl2018['team'].replace(regex=r'[\\*\\+]*$', value='')\n",
    "    nfl2018['team_short'] = [team.split(' ')[-1] for team in nfl2018['team']]\n",
    "    \n",
    "    cities_nfl = cities[['Metropolitan area', 'Population (2016 est.)[8]', 'NFL']]\n",
    "    cities_nfl.rename(columns={'Metropolitan area': 'Metropolitan', 'Population (2016 est.)[8]': 'Population'}, \n",
    "                      inplace=True)\n",
    "    cities_nfl['NFL'] = cities_nfl['NFL'].replace(regex=r'\\[.*\\]', value='').replace({'—': np.nan, '': np.nan})\n",
    "    cities_nfl.dropna(inplace=True)\n",
    "    cities_nfl['NFL'] = [re.findall(r'[A-Z0-9][^A-Z]*', re.sub(r'\\s', '', team)) for team in cities_nfl['NFL']]\n",
    "    \n",
    "    new_df = []\n",
    "    for i in cities_nfl.index:\n",
    "        for team in cities_nfl['NFL'][i]:\n",
    "            new_df.append([cities_nfl['Metropolitan'][i], cities_nfl['Population'][i], team])\n",
    "    cities_nfl_full = pd.DataFrame(new_df, columns=cities_nfl.columns)\n",
    "    \n",
    "    nfl = nfl2018.merge(cities_nfl_full, left_on='team_short', right_on='NFL')[['Metropolitan', 'Population', 'W', 'L']]\n",
    "    nfl = nfl.astype({'Population': 'int', 'W': 'int', 'L': 'int'})\n",
    "    nfl['WinLoss'] = nfl['W'] / (nfl['W']+nfl['L'])\n",
    "    nfl = nfl.groupby(['Metropolitan', 'Population']).agg('mean').reset_index()\n",
    "    \n",
    "    \n",
    "    population_by_region = [pop for pop in nfl['Population'] ] # pass in metropolitan area population from cities\n",
    "    win_loss_by_region = [wl for wl in nfl['WinLoss']] # pass in win/loss ratio from nfl_df in the same order as cities[\"Metropolitan area\"]\n",
    "\n",
    "    assert len(population_by_region) == len(win_loss_by_region), \"Q4: Your lists must be the same length\"\n",
    "    assert len(population_by_region) == 29, \"Q4: There should be 29 teams being analysed for NFL\"\n",
    "\n",
    "    return stats.pearsonr(population_by_region, win_loss_by_region)[0]"
   ]
  },
  {
   "cell_type": "code",
   "execution_count": null,
   "metadata": {
    "deletable": false,
    "editable": false,
    "nbgrader": {
     "checksum": "e9415d6399aa49e3a1a60813afdefa3b",
     "grade": true,
     "grade_id": "cell-de7b148b9554dbda",
     "locked": true,
     "points": 20,
     "schema_version": 1,
     "solution": false
    }
   },
   "outputs": [],
   "source": []
  },
  {
   "cell_type": "markdown",
   "metadata": {
    "deletable": false,
    "editable": false,
    "nbgrader": {
     "checksum": "b02d5cd3273f561e4ae939bb2a41740c",
     "grade": false,
     "grade_id": "cell-97b49d8639e908c4",
     "locked": true,
     "schema_version": 1,
     "solution": false
    }
   },
   "source": [
    "## Question 5\n",
    "In this question I would like you to explore the hypothesis that **given that an area has two sports teams in different sports, those teams will perform the same within their respective sports**. How I would like to see this explored is with a series of paired t-tests (so use [`ttest_rel`](https://docs.scipy.org/doc/scipy/reference/generated/scipy.stats.ttest_rel.html)) between all pairs of sports. Are there any sports where we can reject the null hypothesis? Again, average values where a sport has multiple teams in one region. Remember, you will only be including, for each sport, cities which have teams engaged in that sport, drop others as appropriate. This question is worth 20% of the grade for this assignment."
   ]
  },
  {
   "cell_type": "code",
   "execution_count": 75,
   "metadata": {
    "deletable": false,
    "nbgrader": {
     "checksum": "6d78c961eb66f8d8c81f06d33ae8f393",
     "grade": false,
     "grade_id": "cell-92f25f44b8d1179f",
     "locked": false,
     "schema_version": 1,
     "solution": true
    }
   },
   "outputs": [],
   "source": [
    "import pandas as pd\n",
    "import numpy as np\n",
    "import scipy.stats as stats\n",
    "import re\n",
    "\n",
    "mlb_df=pd.read_csv(\"assets/mlb.csv\")\n",
    "nhl_df=pd.read_csv(\"assets/nhl.csv\")\n",
    "nba_df=pd.read_csv(\"assets/nba.csv\")\n",
    "nfl_df=pd.read_csv(\"assets/nfl.csv\")\n",
    "cities=pd.read_html(\"assets/wikipedia_data.html\")[1]\n",
    "cities=cities.iloc[:-1,[0,3,5,6,7,8]]\n",
    "\n",
    "def sports_team_performance():\n",
    "    cities.rename(columns={'Metropolitan area': 'Metropolitan'}, inplace=True)\n",
    "    \n",
    "    \n",
    "    \n",
    "    nhl2018 = nhl_df.loc[nhl_df['year'] == 2018, ['team', 'W', 'L']]\n",
    "    nhl2018 = nhl2018[nhl2018['W'].str.isdigit()]\n",
    "    nhl2018['team'] = nhl2018['team'].replace(regex=r'\\*$', value='')\n",
    "    nhl2018['team_short'] = [team.split(' ')[-1] for team in nhl2018['team']]\n",
    "    nhl2018 = nhl2018.astype({'W': 'int', 'L': 'int'})\n",
    "    nhl2018 = nhl2018[['team_short', 'W', 'L']]\n",
    "    \n",
    "    cities_nhl = cities[['Metropolitan', 'NHL']]\n",
    "    cities_nhl['NHL'] = cities_nhl['NHL'].replace(regex=r'\\[.*\\]', value='').replace({'—': np.nan, '': np.nan})\n",
    "    cities_nhl.dropna(inplace=True)\n",
    "    cities_nhl['NHL'] = [re.findall(r'[A-Z][^A-Z]*', re.sub(r'\\s', '', team)) for team in cities_nhl['NHL']]\n",
    "    \n",
    "    new_df = []\n",
    "    for i in cities_nhl.index:\n",
    "        for team in cities_nhl['NHL'][i]:\n",
    "            new_df.append([cities_nhl['Metropolitan'][i], team])\n",
    "    cities_nhl_full = pd.DataFrame(new_df, columns=cities_nhl.columns)\n",
    "    \n",
    "    nhl = nhl2018.merge(cities_nhl_full, left_on='team_short', right_on='NHL')[['Metropolitan', 'W', 'L']]\n",
    "    nhl['WinLoss_NHL'] = nhl['W'] / (nhl['W']+nhl['L'])\n",
    "    nhl = nhl.groupby('Metropolitan').agg('mean').reset_index()\n",
    "    \n",
    "    \n",
    "    \n",
    "    nba2018 = nba_df.loc[nba_df['year'] == 2018, ['team', 'W', 'L']]\n",
    "    nba2018['team'] = nba2018['team'].replace(regex=r'[\\*]*\\s\\(\\d+\\)$', value='')\n",
    "    nba2018['team_short'] = [team.split(' ')[-1] for team in nba2018['team']]\n",
    "    nba2018 = nba2018.astype({'W': 'int', 'L': 'int'})\n",
    "    nba2018 = nba2018[['team_short', 'W', 'L']]\n",
    "    \n",
    "    cities_nba = cities[['Metropolitan', 'NBA']]\n",
    "    cities_nba['NBA'] = cities_nba['NBA'].replace(regex=r'\\[.*\\]', value='').replace({'—': np.nan, '': np.nan})\n",
    "    cities_nba.dropna(inplace=True)\n",
    "    cities_nba['NBA'] = [re.findall(r'[A-Z0-9][^A-Z]*', re.sub(r'\\s', '', team)) for team in cities_nba['NBA']]\n",
    "    \n",
    "    new_df = []\n",
    "    for i in cities_nba.index:\n",
    "        for team in cities_nba['NBA'][i]:\n",
    "            new_df.append([cities_nba['Metropolitan'][i], team])\n",
    "    cities_nba_full = pd.DataFrame(new_df, columns=cities_nba.columns)\n",
    "    \n",
    "    nba = nba2018.merge(cities_nba_full, left_on='team_short', right_on='NBA')[['Metropolitan', 'W', 'L']]\n",
    "    nba['WinLoss_NBA'] = nba['W'] / (nba['W']+nba['L'])\n",
    "    nba = nba.groupby('Metropolitan').agg('mean').reset_index()\n",
    "    \n",
    "    \n",
    "    \n",
    "    mlb2018 = mlb_df.loc[mlb_df['year'] == 2018, ['team', 'W', 'L']]\n",
    "    mlb2018['team_short'] = [team.split(' ')[-1] for team in mlb2018['team']]\n",
    "    mlb2018 = mlb2018.astype({'W': 'int', 'L': 'int'})\n",
    "    mlb2018 = mlb2018[['team_short', 'W', 'L']]\n",
    "    mlb2018['team_short'][mlb2018['team_short'].duplicated()] += '1'\n",
    "    \n",
    "    cities_mlb = cities[['Metropolitan', 'MLB']]\n",
    "    cities_mlb['MLB'] = cities_mlb['MLB'].replace(regex=r'\\[.*\\]', value='').replace({'—': np.nan, '': np.nan})\n",
    "    cities_mlb.dropna(inplace=True)\n",
    "    cities_mlb['MLB'] = [re.findall(r'[A-Z][^A-Z]*', re.sub(r'\\s', '', team)) for team in cities_mlb['MLB']]\n",
    "    cities_mlb['MLB'][cities_mlb['Metropolitan'] == 'Chicago'][3][2] = 'Sox1'\n",
    "    \n",
    "    new_df = []\n",
    "    for i in cities_mlb.index:\n",
    "        for team in cities_mlb['MLB'][i]:\n",
    "            new_df.append([cities_mlb['Metropolitan'][i], team])\n",
    "    cities_mlb_full = pd.DataFrame(new_df, columns=cities_mlb.columns)\n",
    "    \n",
    "    mlb = mlb2018.merge(cities_mlb_full, left_on='team_short', right_on='MLB')[['Metropolitan', 'W', 'L']]\n",
    "    mlb['WinLoss_MLB'] = mlb['W'] / (mlb['W']+mlb['L'])\n",
    "    mlb = mlb.groupby('Metropolitan').agg('mean').reset_index()\n",
    "    \n",
    "    \n",
    "    \n",
    "    nfl2018 = nfl_df.loc[nfl_df['year'] == 2018, ['team', 'W', 'L']]\n",
    "    nfl2018 = nfl2018[nfl2018['W'].str.isdigit()]\n",
    "    nfl2018['team'] = nfl2018['team'].replace(regex=r'[\\*\\+]*$', value='')\n",
    "    nfl2018['team_short'] = [team.split(' ')[-1] for team in nfl2018['team']]\n",
    "    nfl2018 = nfl2018.astype({'W': 'int', 'L': 'int'})\n",
    "    nfl2018 = nfl2018[['team_short', 'W', 'L']]\n",
    "    \n",
    "    cities_nfl = cities[['Metropolitan', 'NFL']]\n",
    "    cities_nfl['NFL'] = cities_nfl['NFL'].replace(regex=r'\\[.*\\]', value='').replace({'—': np.nan, '': np.nan})\n",
    "    cities_nfl.dropna(inplace=True)\n",
    "    cities_nfl['NFL'] = [re.findall(r'[A-Z0-9][^A-Z]*', re.sub(r'\\s', '', team)) for team in cities_nfl['NFL']]\n",
    "    \n",
    "    new_df = []\n",
    "    for i in cities_nfl.index:\n",
    "        for team in cities_nfl['NFL'][i]:\n",
    "            new_df.append([cities_nfl['Metropolitan'][i], team])\n",
    "    cities_nfl_full = pd.DataFrame(new_df, columns=cities_nfl.columns)\n",
    "    \n",
    "    nfl = nfl2018.merge(cities_nfl_full, left_on='team_short', right_on='NFL')[['Metropolitan', 'W', 'L']]\n",
    "    nfl['WinLoss_NFL'] = nfl['W'] / (nfl['W']+nfl['L'])\n",
    "    nfl = nfl.groupby('Metropolitan').agg('mean').reset_index()\n",
    "    \n",
    "    \n",
    "    \n",
    "    all_sports = (nhl.merge(nba, on='Metropolitan', how='outer')\n",
    "                  .merge(mlb, on='Metropolitan', how='outer')\n",
    "                  .merge(nfl, on='Metropolitan', how='outer'))\n",
    "    \n",
    "    \n",
    "    \n",
    "    # Note: p_values is a full dataframe, so df.loc[\"NFL\",\"NBA\"] should be the same as df.loc[\"NBA\",\"NFL\"] and\n",
    "    # df.loc[\"NFL\",\"NFL\"] should return np.nan\n",
    "    sports = ['NFL', 'NBA', 'NHL', 'MLB']\n",
    "    p_values = pd.DataFrame({k:np.nan for k in sports}, index=sports)\n",
    "    \n",
    "    for i in range(4):\n",
    "        for j in range(4):\n",
    "            sp_i = sports[i]\n",
    "            sp_j = sports[j]\n",
    "            p_values.loc[sp_i, sp_j] = stats.ttest_rel(all_sports['WinLoss_'+sp_i], \n",
    "                                                       all_sports['WinLoss_'+sp_j], \n",
    "                                                       nan_policy='omit')[1]\n",
    "    \n",
    "    assert abs(p_values.loc[\"NBA\", \"NHL\"] - 0.02) <= 1e-2, \"The NBA-NHL p-value should be around 0.02\"\n",
    "    assert abs(p_values.loc[\"MLB\", \"NFL\"] - 0.80) <= 1e-2, \"The MLB-NFL p-value should be around 0.80\"\n",
    "    return p_values"
   ]
  },
  {
   "cell_type": "code",
   "execution_count": null,
   "metadata": {},
   "outputs": [],
   "source": []
  },
  {
   "cell_type": "code",
   "execution_count": null,
   "metadata": {
    "deletable": false,
    "editable": false,
    "nbgrader": {
     "checksum": "2a596ab421a45cc01168d10e8fbb8f89",
     "grade": true,
     "grade_id": "cell-fb4b9cb5ff4570a6",
     "locked": true,
     "points": 20,
     "schema_version": 1,
     "solution": false
    }
   },
   "outputs": [],
   "source": []
  }
 ],
 "metadata": {
  "coursera": {
   "schema_names": [
    "mooc_adswpy_1_v2_assignment4"
   ]
  },
  "kernelspec": {
   "display_name": "Python 3",
   "language": "python",
   "name": "python3"
  },
  "language_info": {
   "codemirror_mode": {
    "name": "ipython",
    "version": 3
   },
   "file_extension": ".py",
   "mimetype": "text/x-python",
   "name": "python",
   "nbconvert_exporter": "python",
   "pygments_lexer": "ipython3",
   "version": "3.7.3"
  }
 },
 "nbformat": 4,
 "nbformat_minor": 4
}
